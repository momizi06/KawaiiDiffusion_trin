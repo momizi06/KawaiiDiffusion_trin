{
  "cells": [
    {
      "cell_type": "markdown",
      "metadata": {
        "id": "view-in-github",
        "colab_type": "text"
      },
      "source": [
        "<a href=\"https://colab.research.google.com/github/p1atdev/KawaiiDiffusion/blob/main/Waifu_Diffusion.ipynb\" target=\"_parent\"><img src=\"https://colab.research.google.com/assets/colab-badge.svg\" alt=\"Open In Colab\"/></a>"
      ]
    },
    {
      "cell_type": "markdown",
      "metadata": {
        "id": "HeLhSShlFHmT"
      },
      "source": [
        "# Waifu Diffusion\n",
        "### 使い方\n",
        "\n",
        "上から順に再生ボタン押していく。\n",
        "ポップアップとかメッセージがでたらそれに従う。\n",
        "\n",
        "プロンプトは「指示文」ブロックのとこ。自由に変えて色々試してね。"
      ]
    },
    {
      "cell_type": "markdown",
      "metadata": {
        "id": "PRWlvGwCjLvb"
      },
      "source": [
        "## セットアップ / Set up"
      ]
    },
    {
      "cell_type": "code",
      "execution_count": null,
      "metadata": {
        "id": "ZlXtljCCH0LW"
      },
      "outputs": [],
      "source": [
        "!bash git config --global credential.helper store"
      ]
    },
    {
      "cell_type": "code",
      "execution_count": null,
      "metadata": {
        "colab": {
          "base_uri": "https://localhost:8080/"
        },
        "id": "zHkHsdtnry57",
        "outputId": "5436c761-8f4f-4ec7-e97f-c983bc2665ed"
      },
      "outputs": [
        {
          "output_type": "stream",
          "name": "stdout",
          "text": [
            "Fri Sep 16 14:29:19 2022       \n",
            "+-----------------------------------------------------------------------------+\n",
            "| NVIDIA-SMI 460.32.03    Driver Version: 460.32.03    CUDA Version: 11.2     |\n",
            "|-------------------------------+----------------------+----------------------+\n",
            "| GPU  Name        Persistence-M| Bus-Id        Disp.A | Volatile Uncorr. ECC |\n",
            "| Fan  Temp  Perf  Pwr:Usage/Cap|         Memory-Usage | GPU-Util  Compute M. |\n",
            "|                               |                      |               MIG M. |\n",
            "|===============================+======================+======================|\n",
            "|   0  Tesla T4            Off  | 00000000:00:04.0 Off |                    0 |\n",
            "| N/A   38C    P8     9W /  70W |      0MiB / 15109MiB |      0%      Default |\n",
            "|                               |                      |                  N/A |\n",
            "+-------------------------------+----------------------+----------------------+\n",
            "                                                                               \n",
            "+-----------------------------------------------------------------------------+\n",
            "| Processes:                                                                  |\n",
            "|  GPU   GI   CI        PID   Type   Process name                  GPU Memory |\n",
            "|        ID   ID                                                   Usage      |\n",
            "|=============================================================================|\n",
            "|  No running processes found                                                 |\n",
            "+-----------------------------------------------------------------------------+\n"
          ]
        }
      ],
      "source": [
        "!nvidia-smi"
      ]
    },
    {
      "cell_type": "code",
      "execution_count": null,
      "metadata": {
        "id": "aIrgth7sqFML"
      },
      "outputs": [],
      "source": [
        "!pip install diffusers==0.2.4\n",
        "!pip install transformers scipy ftfy datasets\n",
        "!pip install \"ipywidgets>=7,<8\""
      ]
    },
    {
      "cell_type": "code",
      "execution_count": null,
      "metadata": {
        "id": "OtrOo8YPoM2b"
      },
      "outputs": [],
      "source": [
        "from google.colab import output\n",
        "output.enable_custom_widget_manager()"
      ]
    },
    {
      "cell_type": "code",
      "execution_count": null,
      "metadata": {
        "id": "8TRAh8G6sNfA"
      },
      "outputs": [],
      "source": [
        "# from huggingface_hub import notebook_login\n",
        "\n",
        "# notebook_login()"
      ]
    },
    {
      "cell_type": "code",
      "execution_count": null,
      "metadata": {
        "id": "xSKWBKFPArKS"
      },
      "outputs": [],
      "source": [
        "import torch\n",
        "from diffusers import StableDiffusionPipeline\n",
        "\n",
        "model_id = \"hakurei/waifu-diffusion\"\n",
        "\n",
        "pipe = StableDiffusionPipeline.from_pretrained(model_id, revision=\"fp16\", torch_dtype=torch.float16)  "
      ]
    },
    {
      "cell_type": "markdown",
      "metadata": {
        "id": "fZ1kV9mZhTXD"
      },
      "source": [
        "## セーフティーチェックを外す/ Remove the safety check\n",
        "\n",
        "NSFW な写真を生成できるようになりますが、Googleアカウントを停止されても文句言わないでください。\n",
        "\n",
        "これを解除する理由としては、単に全然 NSFW でない、ピンクやペールオレンジが多く含まれた画像でも引っかかってしまい、生成の効率が悪いためです。\n",
        "\n",
        "心配ならここのブロックをコメントアウトするか削除してね。\n"
      ]
    },
    {
      "cell_type": "code",
      "execution_count": null,
      "metadata": {
        "id": "K8ANWfD3NF5C"
      },
      "outputs": [],
      "source": [
        "def dummy(images, **kwargs): return images, False \n",
        "pipe.safety_checker = dummy"
      ]
    },
    {
      "cell_type": "code",
      "execution_count": null,
      "metadata": {
        "id": "LA9myHTxbDhm"
      },
      "outputs": [],
      "source": [
        "pipe = pipe.to(\"cuda\")"
      ]
    },
    {
      "cell_type": "markdown",
      "metadata": {
        "id": "by3mFc1NGc2n"
      },
      "source": [
        "ファイル保存用\n"
      ]
    },
    {
      "cell_type": "code",
      "execution_count": null,
      "metadata": {
        "id": "wPMif6tZEM5y"
      },
      "outputs": [],
      "source": [
        "!pip install path"
      ]
    },
    {
      "cell_type": "markdown",
      "metadata": {
        "id": "BeXjGNwSABBm"
      },
      "source": [
        "## Google Drive に接続 / Connect to Google Drive\n",
        "接続認証のポップアップが出る"
      ]
    },
    {
      "cell_type": "code",
      "execution_count": null,
      "metadata": {
        "colab": {
          "base_uri": "https://localhost:8080/"
        },
        "id": "-jdDi_uXFxW_",
        "outputId": "9fa8c812-7fb1-4ed8-8391-63b0a9f2f290"
      },
      "outputs": [
        {
          "output_type": "stream",
          "name": "stdout",
          "text": [
            "Mounted at /content/drive\n"
          ]
        }
      ],
      "source": [
        "from google.colab import drive\n",
        "drive.mount(\"/content/drive\")"
      ]
    },
    {
      "cell_type": "markdown",
      "metadata": {
        "id": "emjLuMiR_3Yx"
      },
      "source": [
        "## 出力パス / Output path\n",
        "Google Drive での出力パス\n",
        "\n",
        "`/Diffusion/Waifu` は自分で好きなように変えて良い"
      ]
    },
    {
      "cell_type": "code",
      "execution_count": null,
      "metadata": {
        "id": "N6nPSxpKGCJL"
      },
      "outputs": [],
      "source": [
        "output_path = \"drive/MyDrive/Diffusion/Waifu\""
      ]
    },
    {
      "cell_type": "markdown",
      "metadata": {
        "id": "HQFc99VGXJd5"
      },
      "source": [
        "## 画像保存 / Saving images\n",
        "生成方針ごとにフォルダ生成\n",
        "回数ごとにフォルダ生成"
      ]
    },
    {
      "cell_type": "code",
      "execution_count": null,
      "metadata": {
        "id": "pAxlrKvaXIq1"
      },
      "outputs": [],
      "source": [
        "from path import Path\n",
        "\n",
        "trial_title = \"Kawaii_girl\"\n",
        "trial_count = 0\n",
        "\n",
        "# 保存パス / Save path\n",
        "out_dir = Path(output_path)  / trial_title"
      ]
    },
    {
      "cell_type": "code",
      "execution_count": null,
      "metadata": {
        "id": "f3CZoA1nCqx9"
      },
      "outputs": [],
      "source": [
        "import os\n",
        "\n",
        "# 保存用フォルダの作成\n",
        "os.makedirs(out_dir)"
      ]
    },
    {
      "cell_type": "markdown",
      "metadata": {
        "id": "B9OdbHYBhdAQ"
      },
      "source": [
        "## 指示文 / Prompts"
      ]
    },
    {
      "cell_type": "code",
      "execution_count": null,
      "metadata": {
        "id": "U096XfYGhckp"
      },
      "outputs": [],
      "source": [
        "# テンプレート / Template\n",
        "prompt_template = [\n",
        "]\n",
        "\n",
        "# 指令文 / Core\n",
        "prompt_core = [\n",
        "    \"a girl\",\n",
        "]\n",
        "\n"
      ]
    },
    {
      "cell_type": "markdown",
      "metadata": {
        "id": "phr59ayHhmwf"
      },
      "source": [
        "## パラメータ / Parameters"
      ]
    },
    {
      "cell_type": "code",
      "execution_count": null,
      "metadata": {
        "id": "6ajdJt1shmZ_"
      },
      "outputs": [],
      "source": [
        "base_seed = 2294699762 # 乱数機で生成した適当な数字。Google検索で乱数と入れれば生成できます。(0 〜 9_999_999_999 で生成)\n",
        "steps = 30 # 数字を上げると、何回も絵を微調整することになる。30前後がおすすめです。あげても必ずしも綺麗になるとは限らない。\n",
        "\n",
        "# 生成する数\n",
        "count = 10\n",
        "\n",
        "# 画像サイズ\n",
        "width = 512\n",
        "height = 768 # 512, 768, 1024 など。 正方形以外の方が kawaii になりやすい"
      ]
    },
    {
      "cell_type": "markdown",
      "metadata": {
        "id": "iTgB4whDh6zW"
      },
      "source": [
        "いざ生成！"
      ]
    },
    {
      "cell_type": "markdown",
      "source": [
        "### 生成機の準備\n",
        "実行は一度だけで良い"
      ],
      "metadata": {
        "id": "NPZD0Y9lMrey"
      }
    },
    {
      "cell_type": "code",
      "source": [
        "from torch import autocast\n",
        "import pytz\n",
        "\n",
        "# 実行コード\n",
        "def run_prompt(seed, prompt_list, width, height, num_inference_steps=30):\n",
        "    prompt = \", \".join(prompt_list)\n",
        "    print(\"Generating\", seed)\n",
        "    # print(\"\\n\".join(prompt_list))\n",
        "    generator = torch.Generator(\"cuda\").manual_seed(seed)\n",
        "    with autocast(\"cuda\"):\n",
        "        image = pipe(prompt, width=width, height=height, num_inference_steps=num_inference_steps, generator=generator)[\"sample\"][0]\n",
        "    return image\n",
        "\n",
        "# プロンプト保存用\n",
        "def save_prompt(out_dir, prompt):\n",
        "    with open(out_dir / f\"{trial_count}_prompt.txt\", mode=\"w\") as fp:\n",
        "        fp.write(prompt)"
      ],
      "metadata": {
        "id": "holebA40Mu3I"
      },
      "execution_count": null,
      "outputs": []
    },
    {
      "cell_type": "markdown",
      "metadata": {
        "id": "GZWi4GELjSjp"
      },
      "source": [
        "## 通常生成\n",
        "指定されたシードから順に1ずつ足していきながら指定された個数画像を生成する"
      ]
    },
    {
      "cell_type": "code",
      "source": [
        "trial_count += 1\n",
        "\n",
        "prompt_list = prompt_core[:] + prompt_template[:]"
      ],
      "metadata": {
        "id": "qujK7QQeNGqK"
      },
      "execution_count": null,
      "outputs": []
    },
    {
      "cell_type": "code",
      "execution_count": null,
      "metadata": {
        "id": "COD_nH5KDjlS"
      },
      "outputs": [],
      "source": [
        "# プロンプトを保存\n",
        "save_prompt(out_dir, \", \".join(prompt_list))\n",
        "\n",
        "# 繰り返し実行\n",
        "for k in range(count):\n",
        "    seed = base_seed + k\n",
        "\n",
        "    print(f\"Generate seed:{base_seed:d}\")\n",
        "\n",
        "    # 画像生成\n",
        "    image = run_prompt(seed, prompt_list, width, height, steps)\n",
        "\n",
        "    # 画像表示(邪魔ならコメントアウト)\n",
        "    display(image)\n",
        "\n",
        "    # 画像保存(保存しなければコメントアウト)\n",
        "    image.save(out_dir / f\"{trial_count}_{seed:d}.png\")\n"
      ]
    },
    {
      "cell_type": "markdown",
      "metadata": {
        "id": "qj5RmKKCjFd4"
      },
      "source": [
        "## バリエーション\n",
        "同じシード、プロンプト、異なるステップ数で生成する\n",
        "\n"
      ]
    },
    {
      "cell_type": "code",
      "execution_count": null,
      "metadata": {
        "id": "R5ObFXeXjE6m"
      },
      "outputs": [],
      "source": [
        "trial_count += 1\n",
        "out_dir = Path(output_path)  / trial_title\n",
        "\n",
        "# シードのリスト\n",
        "static_seeds = [\n",
        "  5161512896,\n",
        "  5161512903,\n",
        "  5161512906\n",
        "]\n",
        "\n",
        "# ステップのリスト(固定)\n",
        "# step_list = [20, 30, 40, 50, 64] # 36とか入れるとなぜかエラー吐く\n",
        "step_list = [100]\n",
        "\n",
        "for seed in static_seeds:\n",
        "  for setp in step_list:\n",
        "      print(f\"Variation seed:{seed:d} step:{setp:d}\")\n",
        "      image = run_prompt(seed, prompt_list, width, height, setp)\n",
        "      # display(image)\n",
        "      image.save(out_dir / f\"{trial_count}_{seed:d}_{setp:d}.png\")"
      ]
    },
    {
      "cell_type": "markdown",
      "metadata": {
        "id": "sLwpffNITTxA"
      },
      "source": [
        "## 比較検証コード\n",
        "同じ条件で、異なるワードを付与して結果を比較する"
      ]
    },
    {
      "cell_type": "code",
      "execution_count": null,
      "metadata": {
        "id": "0F6VRSo1TbRX"
      },
      "outputs": [],
      "source": [
        "trial_count += 1\n",
        "out_dir = Path(output_path)  / trial_title\n",
        "\n",
        "# シードのリスト\n",
        "static_seeds = [\n",
        "    8946629288\n",
        "]\n",
        "\n",
        "# ステップのリスト(固定)\n",
        "static_step = 30\n",
        "\n",
        "# 変えるワードリスト\n",
        "words = [\n",
        "    \"\",\n",
        "    \"neko\"\n",
        "]\n",
        "\n",
        "# 説明文\n",
        "def save_description(seed, step):\n",
        "  prompt_description = prompt_core[:]\n",
        "  prompt_description.append(\"[条件]\")\n",
        "  prompt_description += prompt_template[:]\n",
        "  description_text = f\"prompt: {', '.join(prompt_description)}\\nseed:{seed}\\nstep:{step}\"\n",
        "  save_prompt(out_dir, description_text)\n",
        "\n",
        "for seed in static_seeds:\n",
        "  #プロンプトの説明文の保存\n",
        "  save_description(seed, static_step)\n",
        "\n",
        "  for word in words:\n",
        "      print(f\"Difference seed:{static_step:d} step:{static_step:d} word:{word}\")\n",
        "      prompt_copy = prompt_core[:]\n",
        "      if word != \"\":\n",
        "        prompt_copy.append(word)\n",
        "      prompt_copy += prompt_template[:]\n",
        "\n",
        "      print(prompt_copy)\n",
        "\n",
        "      image = run_prompt(seed, prompt_copy, width, height, static_step)\n",
        "\n",
        "      display(image)\n",
        "      image.save(out_dir / f\"{trial_count}_{seed:d}_{static_step:d}_{word}.png\")"
      ]
    },
    {
      "cell_type": "markdown",
      "metadata": {
        "id": "5RlqXbLaamIS"
      },
      "source": [
        "## ユーティリティ\n",
        "\n",
        "文章をカンマで区切って出力してくれるやつ。\n",
        "Lexicaのプロンプトをコピペしたい時用。"
      ]
    },
    {
      "cell_type": "code",
      "execution_count": null,
      "metadata": {
        "id": "eeR5Wy55aliy"
      },
      "outputs": [],
      "source": [
        "raw_text = \"\"\"\n",
        "\"\"\"\n",
        "\n",
        "result = raw_text.strip().split(\",\")\n",
        "\n",
        "print(\"[\")\n",
        "\n",
        "for text in result:\n",
        "  print(f'\"{text.strip()}\",')\n",
        "\n",
        "print(\"]\")"
      ]
    }
  ],
  "metadata": {
    "accelerator": "GPU",
    "colab": {
      "collapsed_sections": [
        "fZ1kV9mZhTXD",
        "BeXjGNwSABBm",
        "emjLuMiR_3Yx",
        "HQFc99VGXJd5",
        "B9OdbHYBhdAQ",
        "phr59ayHhmwf",
        "NPZD0Y9lMrey",
        "GZWi4GELjSjp",
        "qj5RmKKCjFd4",
        "sLwpffNITTxA"
      ],
      "machine_shape": "hm",
      "provenance": [],
      "include_colab_link": true
    },
    "gpuClass": "standard",
    "kernelspec": {
      "display_name": "Python 3",
      "name": "python3"
    },
    "language_info": {
      "name": "python"
    }
  },
  "nbformat": 4,
  "nbformat_minor": 0
}